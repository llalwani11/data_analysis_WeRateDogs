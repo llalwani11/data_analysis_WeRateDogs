{
 "cells": [
  {
   "cell_type": "markdown",
   "metadata": {},
   "source": [
    "# Data Analysis Report"
   ]
  },
  {
   "cell_type": "markdown",
   "metadata": {},
   "source": [
    "From the tweets data gathered from the WeRateDogs twitter page, we decided to focus our anlysis on the breeds of the dogs tweeted about. We focused the analysis around 3 key questions.\n",
    "\n",
    "**Fun Fact: We used a neural network to classify the breeds of the dogs from the tweet images.**\n",
    "\n",
    "----------------------\n",
    "\n",
    "## 1. Which dog breed is the most tweeted about?\n",
    "We thought it'd be interesting to see which dog breeds are the most tweeted about on this page. Not suprisingly, from our data, the **Golden Retreiver** was the most tweeted about. This was followed by **Labrador Retriever**, **Pembroke**, **Chihuahua** and of couse, the **Pug**.\n",
    "\n",
    "![The Famous Golden Retreiver](images/golden.jpg \"The Famous Golden Retreiver\")\n",
    "\n",
    "----------------------\n",
    "\n",
    "## 2. Which dog breed is rated most highly on average?\n",
    "Just because a dog breed is the most tweeted about, doesn't mean it's rated most highly on average. So which is it? Which breed was the most highly rated breed overall? It turns out, the **Golden Retreiver** strikes again! the **Golden Retreiver** was the most highly rated with an average rating of 117.5%! So not only are they popular, the people at WeRateDogs sure do love them.\n",
    "\n",
    "![The Legendary Golden Retreiver](images/golden2.jpg \"The Legendary Golden Retreiver\")\n",
    "\n",
    "The **Samoyed** was a very close second, coming in with an average rating of 116.9%!\n",
    "\n",
    "![The cute Samoyed](images/samoyed.jpg \"The cute Samoyed\")\n",
    "\n",
    "----------------------\n",
    "\n",
    "## 3. Is there a relationship between dog breed and favorite count?\n",
    "There sure is! Some breeds tend to be a lot of people's favorite. Check out the graph below.\n",
    "\n",
    "![Most favorited dog breeds](images/visual.png \"Most favorited dog breeds\")\n",
    "\n",
    "It looks like the **French Bulldog** has taken the crown as the 'all time favorite' averaging out at almost 20,000 favorites! Now that is impressive.\n",
    "\n",
    "The Whippet and Cocker Spaniel follow on second and third. A few others were also not too far off.\n",
    "\n",
    "![The 'All-Time Favorite' French Bulldog](images/french_bulldog.jpg \"The 'All-Time Favorite' French Bulldog\")\n",
    "\n",
    "----------------------\n",
    "\n",
    "**Depending on how you look at it, different breed comes out on top. One thing is clear though, we all love dogs and especially, Golden Retreivers!**\n",
    "\n",
    "----------------------\n"
   ]
  }
 ],
 "metadata": {
  "kernelspec": {
   "display_name": "Python 3",
   "language": "python",
   "name": "python3"
  },
  "language_info": {
   "codemirror_mode": {
    "name": "ipython",
    "version": 3
   },
   "file_extension": ".py",
   "mimetype": "text/x-python",
   "name": "python",
   "nbconvert_exporter": "python",
   "pygments_lexer": "ipython3",
   "version": "3.7.3"
  }
 },
 "nbformat": 4,
 "nbformat_minor": 2
}
