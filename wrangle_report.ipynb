{
 "cells": [
  {
   "cell_type": "markdown",
   "metadata": {},
   "source": [
    "# Data Wrangling Report"
   ]
  },
  {
   "cell_type": "markdown",
   "metadata": {},
   "source": [
    "This document briefly explains the wrangling process that was conducted on the tweet data from the WeRateDogs Twitter page.\n",
    "\n",
    "### Gathering Data\n",
    "To start the wrangling process, data was gathered from three different sources. The first was a CSV file containing a WeRateDogs Twitter archive already on hand. Second, was a TSV file gathered from Udacity's server that contains tweet image prediction data. Lastly, the retweet and favorite count of each tweet were gathered directly from the Twitter API.\n",
    "\n",
    "Each set of data that was gathered were loaded onto their own dataframes for assessment.\n",
    "\n",
    "### Assessing Data\n",
    "Each dataframe was assessed visually and programmatically. Both data quality and data tidiness issues were clearly documented for each dataframe with the following summary produced:\n",
    "\n",
    "#### Data quality issues (9):\n",
    "\n",
    "- On *twitter_archive_df*, there are some retweets and replies.\n",
    "- On *twitter_archive_df*, the expanded_urls', 'source' and 'name' column names are unclear.\n",
    "- On *twitter_archive_df*, the 'timstamp' data is not using the correct data type.\n",
    "- On *twitter_archive_df*, the 'source' data contains only 4 unique values. This can be a category datatype rather than object.\n",
    "- On *twitter_archive_df*, the 'source' information contains unnecesary HTML.\n",
    "- On *twitter_archive_df*, the 'rating_numerator'/'rating_denominator' value has some odd results like infinity.\n",
    "- On *twitter_archive_df*, there are some dog names that likely are to be mistakes. Ie. 'a', 'an' and 'the'.\n",
    "- On *image_predictions_df*, the column names are unclear.\n",
    "- On *image_predictions_df*, the 'image_num' column has an inappropriate data type.\n",
    "\n",
    "#### Data tidiness issues (3):\n",
    "\n",
    "- image_predictions_df is part of the same observational unit as twitter_archive_df.\n",
    "- tweet_stats_df is part of the same observational unit as twitter_archive_df.\n",
    "- On twitter_archive_df, the 4 different columns doggo, floofer, pupper and puppo, are all relative to the same variable that identifies the stage of dog.\n",
    "\n",
    "### Cleaning Data\n",
    "Prior to cleaning the data, a copy of the data was made. Then, an ordered list of cleaning steps were defined as per below with the type of data quality issue in brackets. Each item was coded and tested.\n",
    "\n",
    "#### Data Completion Quality Steps:\n",
    "1. On twitter_archive_df, remove the retweets and replies and drop retweet and reply related columns (unnecessary data).\n",
    "\n",
    "#### Data Tidiness Steps:\n",
    "2. On twitter_archive_df, melt the 4 different columns doggo, floofer, pupper and puppo together into a single column named \"dog stage\".\n",
    "3. tweet_stats_df is part of the same observational unit as twitter_archive_df and therefore should be merged. Disregard any teeets without a favoruite and retweet count as they may no longer be valid.\n",
    "4. image_predictions_df is part of the same observational unit as twitter_archive_df and therefore should be merged. Select the most probable dog breed from image_predictions_df for the merging as all the predictions probabilities is not required for the analysis.\n",
    "\n",
    "#### Remaining Data Quality Steps:\n",
    "5. On twitter_archive_df, check and correct 'rating_numerator' and 'rating_denominator' for accuracy (accuracy issue).\n",
    "6. On twitter_archive_df, remove names that likely are to be mistakes, including 'a', 'an' and 'the' (accuracy issue).\n",
    "7. On twitter_archive_df, appropriatly rename the 'expanded_urls', 'source' and 'name' columns to be clear (consistency issue).\n",
    "8. On twitter_archive_df, appropriatly rename the newly added columns from image_predictions_df (consistency issue).\n",
    "9. On twitter_archive_df, change the 'timstamp' data to use the datetime datatype (validity issue).\n",
    "10. On twitter_archive_df, remove the unnecesary HTML from the 'source' column (consistency issue).\n",
    "11. On twitter_archive_df, change the 'source' data to use the category data type (validity issue).\n",
    "12. On twitter_archive_df, change the 'selected_image_numer' data to use the category data type (validity issue).\n",
    "\n",
    "### Storing Data\n",
    "The final cleaned dataframe was stored as a CSV file to be loaded and used later."
   ]
  }
 ],
 "metadata": {
  "kernelspec": {
   "display_name": "Python 3",
   "language": "python",
   "name": "python3"
  },
  "language_info": {
   "codemirror_mode": {
    "name": "ipython",
    "version": 3
   },
   "file_extension": ".py",
   "mimetype": "text/x-python",
   "name": "python",
   "nbconvert_exporter": "python",
   "pygments_lexer": "ipython3",
   "version": "3.6.3"
  }
 },
 "nbformat": 4,
 "nbformat_minor": 2
}
